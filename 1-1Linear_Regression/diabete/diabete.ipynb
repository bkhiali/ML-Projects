{
 "cells": [
  {
   "cell_type": "code",
   "execution_count": 1,
   "metadata": {},
   "outputs": [],
   "source": [
    "import matplotlib.pylab as plt\n",
    "import numpy as np\n",
    "%matplotlib inline\n",
    "from sklearn.linear_model import LinearRegression\n",
    "from sklearn import datasets\n",
    "from sklearn.metrics import mean_squared_error\n",
    "import pandas as pd\n",
    "import seaborn as sns"
   ]
  },
  {
   "cell_type": "code",
   "execution_count": 3,
   "metadata": {},
   "outputs": [],
   "source": [
    "diabetes = datasets.load_diabetes()"
   ]
  },
  {
   "cell_type": "code",
   "execution_count": 4,
   "metadata": {},
   "outputs": [
    {
     "name": "stdout",
     "output_type": "stream",
     "text": [
      ".. _diabetes_dataset:\n",
      "\n",
      "Diabetes dataset\n",
      "----------------\n",
      "\n",
      "Ten baseline variables, age, sex, body mass index, average blood\n",
      "pressure, and six blood serum measurements were obtained for each of n =\n",
      "442 diabetes patients, as well as the response of interest, a\n",
      "quantitative measure of disease progression one year after baseline.\n",
      "\n",
      "**Data Set Characteristics:**\n",
      "\n",
      "  :Number of Instances: 442\n",
      "\n",
      "  :Number of Attributes: First 10 columns are numeric predictive values\n",
      "\n",
      "  :Target: Column 11 is a quantitative measure of disease progression one year after baseline\n",
      "\n",
      "  :Attribute Information:\n",
      "      - age     age in years\n",
      "      - sex\n",
      "      - bmi     body mass index\n",
      "      - bp      average blood pressure\n",
      "      - s1      tc, T-Cells (a type of white blood cells)\n",
      "      - s2      ldl, low-density lipoproteins\n",
      "      - s3      hdl, high-density lipoproteins\n",
      "      - s4      tch, thyroid stimulating hormone\n",
      "      - s5      ltg, lamotrigine\n",
      "      - s6      glu, blood sugar level\n",
      "\n",
      "Note: Each of these 10 feature variables have been mean centered and scaled by the standard deviation times `n_samples` (i.e. the sum of squares of each column totals 1).\n",
      "\n",
      "Source URL:\n",
      "https://www4.stat.ncsu.edu/~boos/var.select/diabetes.html\n",
      "\n",
      "For more information see:\n",
      "Bradley Efron, Trevor Hastie, Iain Johnstone and Robert Tibshirani (2004) \"Least Angle Regression,\" Annals of Statistics (with discussion), 407-499.\n",
      "(https://web.stanford.edu/~hastie/Papers/LARS/LeastAngle_2002.pdf)\n"
     ]
    }
   ],
   "source": [
    "print(diabetes.DESCR)"
   ]
  },
  {
   "cell_type": "code",
   "execution_count": 17,
   "metadata": {},
   "outputs": [
    {
     "data": {
      "text/plain": [
       "['age', 'sex', 'bmi', 'bp', 's1', 's2', 's3', 's4', 's5', 's6']"
      ]
     },
     "execution_count": 17,
     "metadata": {},
     "output_type": "execute_result"
    }
   ],
   "source": [
    "diabetes.feature_names #checking the feature names"
   ]
  },
  {
   "cell_type": "code",
   "execution_count": 18,
   "metadata": {},
   "outputs": [
    {
     "data": {
      "text/plain": [
       "(442, 10)"
      ]
     },
     "execution_count": 18,
     "metadata": {},
     "output_type": "execute_result"
    }
   ],
   "source": [
    "diabetes.data.shape  #checking the shape of data"
   ]
  },
  {
   "cell_type": "code",
   "execution_count": 19,
   "metadata": {},
   "outputs": [
    {
     "data": {
      "text/plain": [
       "(442,)"
      ]
     },
     "execution_count": 19,
     "metadata": {},
     "output_type": "execute_result"
    }
   ],
   "source": [
    "diabetes.target.shape"
   ]
  },
  {
   "cell_type": "code",
   "execution_count": 30,
   "metadata": {},
   "outputs": [
    {
     "data": {
      "text/html": [
       "<div>\n",
       "<style scoped>\n",
       "    .dataframe tbody tr th:only-of-type {\n",
       "        vertical-align: middle;\n",
       "    }\n",
       "\n",
       "    .dataframe tbody tr th {\n",
       "        vertical-align: top;\n",
       "    }\n",
       "\n",
       "    .dataframe thead th {\n",
       "        text-align: right;\n",
       "    }\n",
       "</style>\n",
       "<table border=\"1\" class=\"dataframe\">\n",
       "  <thead>\n",
       "    <tr style=\"text-align: right;\">\n",
       "      <th></th>\n",
       "      <th>age</th>\n",
       "      <th>sex</th>\n",
       "      <th>bmi</th>\n",
       "      <th>bp</th>\n",
       "      <th>s1</th>\n",
       "      <th>s2</th>\n",
       "      <th>s3</th>\n",
       "      <th>s4</th>\n",
       "      <th>s5</th>\n",
       "      <th>s6</th>\n",
       "    </tr>\n",
       "  </thead>\n",
       "  <tbody>\n",
       "    <tr>\n",
       "      <th>82</th>\n",
       "      <td>-0.016412</td>\n",
       "      <td>-0.044642</td>\n",
       "      <td>-0.035307</td>\n",
       "      <td>-0.026328</td>\n",
       "      <td>0.032830</td>\n",
       "      <td>0.017162</td>\n",
       "      <td>0.100183</td>\n",
       "      <td>-0.039493</td>\n",
       "      <td>-0.070209</td>\n",
       "      <td>-0.079778</td>\n",
       "    </tr>\n",
       "    <tr>\n",
       "      <th>188</th>\n",
       "      <td>0.005383</td>\n",
       "      <td>-0.044642</td>\n",
       "      <td>-0.002973</td>\n",
       "      <td>0.049415</td>\n",
       "      <td>0.074108</td>\n",
       "      <td>0.070710</td>\n",
       "      <td>0.044958</td>\n",
       "      <td>-0.002592</td>\n",
       "      <td>-0.001499</td>\n",
       "      <td>-0.009362</td>\n",
       "    </tr>\n",
       "    <tr>\n",
       "      <th>24</th>\n",
       "      <td>-0.063635</td>\n",
       "      <td>-0.044642</td>\n",
       "      <td>0.035829</td>\n",
       "      <td>-0.022885</td>\n",
       "      <td>-0.030464</td>\n",
       "      <td>-0.018850</td>\n",
       "      <td>-0.006584</td>\n",
       "      <td>-0.002592</td>\n",
       "      <td>-0.025952</td>\n",
       "      <td>-0.054925</td>\n",
       "    </tr>\n",
       "    <tr>\n",
       "      <th>129</th>\n",
       "      <td>0.009016</td>\n",
       "      <td>-0.044642</td>\n",
       "      <td>0.016428</td>\n",
       "      <td>0.004658</td>\n",
       "      <td>0.009439</td>\n",
       "      <td>0.010586</td>\n",
       "      <td>-0.028674</td>\n",
       "      <td>0.034309</td>\n",
       "      <td>0.038968</td>\n",
       "      <td>0.119043</td>\n",
       "    </tr>\n",
       "    <tr>\n",
       "      <th>172</th>\n",
       "      <td>0.041708</td>\n",
       "      <td>0.050680</td>\n",
       "      <td>0.071397</td>\n",
       "      <td>0.008101</td>\n",
       "      <td>0.038334</td>\n",
       "      <td>0.015909</td>\n",
       "      <td>-0.017629</td>\n",
       "      <td>0.034309</td>\n",
       "      <td>0.073410</td>\n",
       "      <td>0.085907</td>\n",
       "    </tr>\n",
       "  </tbody>\n",
       "</table>\n",
       "</div>"
      ],
      "text/plain": [
       "          age       sex       bmi        bp        s1        s2        s3  \\\n",
       "82  -0.016412 -0.044642 -0.035307 -0.026328  0.032830  0.017162  0.100183   \n",
       "188  0.005383 -0.044642 -0.002973  0.049415  0.074108  0.070710  0.044958   \n",
       "24  -0.063635 -0.044642  0.035829 -0.022885 -0.030464 -0.018850 -0.006584   \n",
       "129  0.009016 -0.044642  0.016428  0.004658  0.009439  0.010586 -0.028674   \n",
       "172  0.041708  0.050680  0.071397  0.008101  0.038334  0.015909 -0.017629   \n",
       "\n",
       "           s4        s5        s6  \n",
       "82  -0.039493 -0.070209 -0.079778  \n",
       "188 -0.002592 -0.001499 -0.009362  \n",
       "24  -0.002592 -0.025952 -0.054925  \n",
       "129  0.034309  0.038968  0.119043  \n",
       "172  0.034309  0.073410  0.085907  "
      ]
     },
     "execution_count": 30,
     "metadata": {},
     "output_type": "execute_result"
    }
   ],
   "source": [
    "db_df = pd.DataFrame(diabetes.data,columns=diabetes.feature_names)\n",
    "db_df.sample(5)"
   ]
  },
  {
   "cell_type": "code",
   "execution_count": 34,
   "metadata": {},
   "outputs": [
    {
     "data": {
      "text/html": [
       "<div>\n",
       "<style scoped>\n",
       "    .dataframe tbody tr th:only-of-type {\n",
       "        vertical-align: middle;\n",
       "    }\n",
       "\n",
       "    .dataframe tbody tr th {\n",
       "        vertical-align: top;\n",
       "    }\n",
       "\n",
       "    .dataframe thead th {\n",
       "        text-align: right;\n",
       "    }\n",
       "</style>\n",
       "<table border=\"1\" class=\"dataframe\">\n",
       "  <thead>\n",
       "    <tr style=\"text-align: right;\">\n",
       "      <th></th>\n",
       "      <th>age</th>\n",
       "      <th>sex</th>\n",
       "      <th>bmi</th>\n",
       "      <th>bp</th>\n",
       "      <th>s1</th>\n",
       "      <th>s2</th>\n",
       "      <th>s3</th>\n",
       "      <th>s4</th>\n",
       "      <th>s5</th>\n",
       "      <th>s6</th>\n",
       "      <th>Progression</th>\n",
       "    </tr>\n",
       "  </thead>\n",
       "  <tbody>\n",
       "    <tr>\n",
       "      <th>352</th>\n",
       "      <td>0.012648</td>\n",
       "      <td>0.05068</td>\n",
       "      <td>-0.071952</td>\n",
       "      <td>-0.046985</td>\n",
       "      <td>-0.051103</td>\n",
       "      <td>-0.097137</td>\n",
       "      <td>0.118591</td>\n",
       "      <td>-0.076395</td>\n",
       "      <td>-0.020289</td>\n",
       "      <td>-0.038357</td>\n",
       "      <td>77.0</td>\n",
       "    </tr>\n",
       "    <tr>\n",
       "      <th>356</th>\n",
       "      <td>-0.005515</td>\n",
       "      <td>0.05068</td>\n",
       "      <td>-0.033151</td>\n",
       "      <td>-0.015999</td>\n",
       "      <td>0.008063</td>\n",
       "      <td>0.016222</td>\n",
       "      <td>0.015505</td>\n",
       "      <td>-0.002592</td>\n",
       "      <td>-0.028320</td>\n",
       "      <td>-0.075636</td>\n",
       "      <td>54.0</td>\n",
       "    </tr>\n",
       "  </tbody>\n",
       "</table>\n",
       "</div>"
      ],
      "text/plain": [
       "          age      sex       bmi        bp        s1        s2        s3  \\\n",
       "352  0.012648  0.05068 -0.071952 -0.046985 -0.051103 -0.097137  0.118591   \n",
       "356 -0.005515  0.05068 -0.033151 -0.015999  0.008063  0.016222  0.015505   \n",
       "\n",
       "           s4        s5        s6  Progression  \n",
       "352 -0.076395 -0.020289 -0.038357         77.0  \n",
       "356 -0.002592 -0.028320 -0.075636         54.0  "
      ]
     },
     "execution_count": 34,
     "metadata": {},
     "output_type": "execute_result"
    }
   ],
   "source": [
    "db_df['Progression'] = diabetes.target #new column name 'Progression'\n",
    "db_df.sample(2) #checking the dataset once again."
   ]
  },
  {
   "cell_type": "code",
   "execution_count": 36,
   "metadata": {},
   "outputs": [
    {
     "data": {
      "text/plain": [
       "age            0\n",
       "sex            0\n",
       "bmi            0\n",
       "bp             0\n",
       "s1             0\n",
       "s2             0\n",
       "s3             0\n",
       "s4             0\n",
       "s5             0\n",
       "s6             0\n",
       "Progression    0\n",
       "dtype: int64"
      ]
     },
     "execution_count": 36,
     "metadata": {},
     "output_type": "execute_result"
    }
   ],
   "source": [
    "db_df.isna().sum()#There are no missing values in the dataframe"
   ]
  },
  {
   "cell_type": "code",
   "execution_count": 37,
   "metadata": {},
   "outputs": [
    {
     "data": {
      "text/html": [
       "<div>\n",
       "<style scoped>\n",
       "    .dataframe tbody tr th:only-of-type {\n",
       "        vertical-align: middle;\n",
       "    }\n",
       "\n",
       "    .dataframe tbody tr th {\n",
       "        vertical-align: top;\n",
       "    }\n",
       "\n",
       "    .dataframe thead th {\n",
       "        text-align: right;\n",
       "    }\n",
       "</style>\n",
       "<table border=\"1\" class=\"dataframe\">\n",
       "  <thead>\n",
       "    <tr style=\"text-align: right;\">\n",
       "      <th></th>\n",
       "      <th>age</th>\n",
       "      <th>sex</th>\n",
       "      <th>bmi</th>\n",
       "      <th>bp</th>\n",
       "      <th>s1</th>\n",
       "      <th>s2</th>\n",
       "      <th>s3</th>\n",
       "      <th>s4</th>\n",
       "      <th>s5</th>\n",
       "      <th>s6</th>\n",
       "      <th>Progression</th>\n",
       "    </tr>\n",
       "  </thead>\n",
       "  <tbody>\n",
       "    <tr>\n",
       "      <th>count</th>\n",
       "      <td>4.420000e+02</td>\n",
       "      <td>4.420000e+02</td>\n",
       "      <td>4.420000e+02</td>\n",
       "      <td>4.420000e+02</td>\n",
       "      <td>4.420000e+02</td>\n",
       "      <td>4.420000e+02</td>\n",
       "      <td>4.420000e+02</td>\n",
       "      <td>4.420000e+02</td>\n",
       "      <td>4.420000e+02</td>\n",
       "      <td>4.420000e+02</td>\n",
       "      <td>442.000000</td>\n",
       "    </tr>\n",
       "    <tr>\n",
       "      <th>mean</th>\n",
       "      <td>-3.639623e-16</td>\n",
       "      <td>1.309912e-16</td>\n",
       "      <td>-8.013951e-16</td>\n",
       "      <td>1.289818e-16</td>\n",
       "      <td>-9.042540e-17</td>\n",
       "      <td>1.301121e-16</td>\n",
       "      <td>-4.563971e-16</td>\n",
       "      <td>3.863174e-16</td>\n",
       "      <td>-3.848103e-16</td>\n",
       "      <td>-3.398488e-16</td>\n",
       "      <td>152.133484</td>\n",
       "    </tr>\n",
       "    <tr>\n",
       "      <th>std</th>\n",
       "      <td>4.761905e-02</td>\n",
       "      <td>4.761905e-02</td>\n",
       "      <td>4.761905e-02</td>\n",
       "      <td>4.761905e-02</td>\n",
       "      <td>4.761905e-02</td>\n",
       "      <td>4.761905e-02</td>\n",
       "      <td>4.761905e-02</td>\n",
       "      <td>4.761905e-02</td>\n",
       "      <td>4.761905e-02</td>\n",
       "      <td>4.761905e-02</td>\n",
       "      <td>77.093005</td>\n",
       "    </tr>\n",
       "    <tr>\n",
       "      <th>min</th>\n",
       "      <td>-1.072256e-01</td>\n",
       "      <td>-4.464164e-02</td>\n",
       "      <td>-9.027530e-02</td>\n",
       "      <td>-1.123996e-01</td>\n",
       "      <td>-1.267807e-01</td>\n",
       "      <td>-1.156131e-01</td>\n",
       "      <td>-1.023071e-01</td>\n",
       "      <td>-7.639450e-02</td>\n",
       "      <td>-1.260974e-01</td>\n",
       "      <td>-1.377672e-01</td>\n",
       "      <td>25.000000</td>\n",
       "    </tr>\n",
       "    <tr>\n",
       "      <th>25%</th>\n",
       "      <td>-3.729927e-02</td>\n",
       "      <td>-4.464164e-02</td>\n",
       "      <td>-3.422907e-02</td>\n",
       "      <td>-3.665645e-02</td>\n",
       "      <td>-3.424784e-02</td>\n",
       "      <td>-3.035840e-02</td>\n",
       "      <td>-3.511716e-02</td>\n",
       "      <td>-3.949338e-02</td>\n",
       "      <td>-3.324879e-02</td>\n",
       "      <td>-3.317903e-02</td>\n",
       "      <td>87.000000</td>\n",
       "    </tr>\n",
       "    <tr>\n",
       "      <th>50%</th>\n",
       "      <td>5.383060e-03</td>\n",
       "      <td>-4.464164e-02</td>\n",
       "      <td>-7.283766e-03</td>\n",
       "      <td>-5.670611e-03</td>\n",
       "      <td>-4.320866e-03</td>\n",
       "      <td>-3.819065e-03</td>\n",
       "      <td>-6.584468e-03</td>\n",
       "      <td>-2.592262e-03</td>\n",
       "      <td>-1.947634e-03</td>\n",
       "      <td>-1.077698e-03</td>\n",
       "      <td>140.500000</td>\n",
       "    </tr>\n",
       "    <tr>\n",
       "      <th>75%</th>\n",
       "      <td>3.807591e-02</td>\n",
       "      <td>5.068012e-02</td>\n",
       "      <td>3.124802e-02</td>\n",
       "      <td>3.564384e-02</td>\n",
       "      <td>2.835801e-02</td>\n",
       "      <td>2.984439e-02</td>\n",
       "      <td>2.931150e-02</td>\n",
       "      <td>3.430886e-02</td>\n",
       "      <td>3.243323e-02</td>\n",
       "      <td>2.791705e-02</td>\n",
       "      <td>211.500000</td>\n",
       "    </tr>\n",
       "    <tr>\n",
       "      <th>max</th>\n",
       "      <td>1.107267e-01</td>\n",
       "      <td>5.068012e-02</td>\n",
       "      <td>1.705552e-01</td>\n",
       "      <td>1.320442e-01</td>\n",
       "      <td>1.539137e-01</td>\n",
       "      <td>1.987880e-01</td>\n",
       "      <td>1.811791e-01</td>\n",
       "      <td>1.852344e-01</td>\n",
       "      <td>1.335990e-01</td>\n",
       "      <td>1.356118e-01</td>\n",
       "      <td>346.000000</td>\n",
       "    </tr>\n",
       "  </tbody>\n",
       "</table>\n",
       "</div>"
      ],
      "text/plain": [
       "                age           sex           bmi            bp            s1  \\\n",
       "count  4.420000e+02  4.420000e+02  4.420000e+02  4.420000e+02  4.420000e+02   \n",
       "mean  -3.639623e-16  1.309912e-16 -8.013951e-16  1.289818e-16 -9.042540e-17   \n",
       "std    4.761905e-02  4.761905e-02  4.761905e-02  4.761905e-02  4.761905e-02   \n",
       "min   -1.072256e-01 -4.464164e-02 -9.027530e-02 -1.123996e-01 -1.267807e-01   \n",
       "25%   -3.729927e-02 -4.464164e-02 -3.422907e-02 -3.665645e-02 -3.424784e-02   \n",
       "50%    5.383060e-03 -4.464164e-02 -7.283766e-03 -5.670611e-03 -4.320866e-03   \n",
       "75%    3.807591e-02  5.068012e-02  3.124802e-02  3.564384e-02  2.835801e-02   \n",
       "max    1.107267e-01  5.068012e-02  1.705552e-01  1.320442e-01  1.539137e-01   \n",
       "\n",
       "                 s2            s3            s4            s5            s6  \\\n",
       "count  4.420000e+02  4.420000e+02  4.420000e+02  4.420000e+02  4.420000e+02   \n",
       "mean   1.301121e-16 -4.563971e-16  3.863174e-16 -3.848103e-16 -3.398488e-16   \n",
       "std    4.761905e-02  4.761905e-02  4.761905e-02  4.761905e-02  4.761905e-02   \n",
       "min   -1.156131e-01 -1.023071e-01 -7.639450e-02 -1.260974e-01 -1.377672e-01   \n",
       "25%   -3.035840e-02 -3.511716e-02 -3.949338e-02 -3.324879e-02 -3.317903e-02   \n",
       "50%   -3.819065e-03 -6.584468e-03 -2.592262e-03 -1.947634e-03 -1.077698e-03   \n",
       "75%    2.984439e-02  2.931150e-02  3.430886e-02  3.243323e-02  2.791705e-02   \n",
       "max    1.987880e-01  1.811791e-01  1.852344e-01  1.335990e-01  1.356118e-01   \n",
       "\n",
       "       Progression  \n",
       "count   442.000000  \n",
       "mean    152.133484  \n",
       "std      77.093005  \n",
       "min      25.000000  \n",
       "25%      87.000000  \n",
       "50%     140.500000  \n",
       "75%     211.500000  \n",
       "max     346.000000  "
      ]
     },
     "execution_count": 37,
     "metadata": {},
     "output_type": "execute_result"
    }
   ],
   "source": [
    "db_df.describe()   #the below is the summary statistics of the dataset. Since the data is already normalized / scaled it might not have significant meaning."
   ]
  },
  {
   "cell_type": "code",
   "execution_count": 38,
   "metadata": {},
   "outputs": [
    {
     "name": "stdout",
     "output_type": "stream",
     "text": [
      "<class 'pandas.core.frame.DataFrame'>\n",
      "RangeIndex: 442 entries, 0 to 441\n",
      "Data columns (total 11 columns):\n",
      "age            442 non-null float64\n",
      "sex            442 non-null float64\n",
      "bmi            442 non-null float64\n",
      "bp             442 non-null float64\n",
      "s1             442 non-null float64\n",
      "s2             442 non-null float64\n",
      "s3             442 non-null float64\n",
      "s4             442 non-null float64\n",
      "s5             442 non-null float64\n",
      "s6             442 non-null float64\n",
      "Progression    442 non-null float64\n",
      "dtypes: float64(11)\n",
      "memory usage: 38.1 KB\n"
     ]
    }
   ],
   "source": [
    "db_df.info()  #Getting the information about the dataframe, the datatypes etc. There is not much descrepency in data types."
   ]
  },
  {
   "cell_type": "code",
   "execution_count": 39,
   "metadata": {},
   "outputs": [
    {
     "data": {
      "text/html": [
       "<div>\n",
       "<style scoped>\n",
       "    .dataframe tbody tr th:only-of-type {\n",
       "        vertical-align: middle;\n",
       "    }\n",
       "\n",
       "    .dataframe tbody tr th {\n",
       "        vertical-align: top;\n",
       "    }\n",
       "\n",
       "    .dataframe thead th {\n",
       "        text-align: right;\n",
       "    }\n",
       "</style>\n",
       "<table border=\"1\" class=\"dataframe\">\n",
       "  <thead>\n",
       "    <tr style=\"text-align: right;\">\n",
       "      <th></th>\n",
       "      <th>age</th>\n",
       "      <th>sex</th>\n",
       "      <th>bmi</th>\n",
       "      <th>bp</th>\n",
       "      <th>s1</th>\n",
       "      <th>s2</th>\n",
       "      <th>s3</th>\n",
       "      <th>s4</th>\n",
       "      <th>s5</th>\n",
       "      <th>s6</th>\n",
       "      <th>Progression</th>\n",
       "    </tr>\n",
       "  </thead>\n",
       "  <tbody>\n",
       "    <tr>\n",
       "      <th>age</th>\n",
       "      <td>1.000000</td>\n",
       "      <td>0.173737</td>\n",
       "      <td>0.185085</td>\n",
       "      <td>0.335427</td>\n",
       "      <td>0.260061</td>\n",
       "      <td>0.219243</td>\n",
       "      <td>-0.075181</td>\n",
       "      <td>0.203841</td>\n",
       "      <td>0.270777</td>\n",
       "      <td>0.301731</td>\n",
       "      <td>0.187889</td>\n",
       "    </tr>\n",
       "    <tr>\n",
       "      <th>sex</th>\n",
       "      <td>0.173737</td>\n",
       "      <td>1.000000</td>\n",
       "      <td>0.088161</td>\n",
       "      <td>0.241013</td>\n",
       "      <td>0.035277</td>\n",
       "      <td>0.142637</td>\n",
       "      <td>-0.379090</td>\n",
       "      <td>0.332115</td>\n",
       "      <td>0.149918</td>\n",
       "      <td>0.208133</td>\n",
       "      <td>0.043062</td>\n",
       "    </tr>\n",
       "    <tr>\n",
       "      <th>bmi</th>\n",
       "      <td>0.185085</td>\n",
       "      <td>0.088161</td>\n",
       "      <td>1.000000</td>\n",
       "      <td>0.395415</td>\n",
       "      <td>0.249777</td>\n",
       "      <td>0.261170</td>\n",
       "      <td>-0.366811</td>\n",
       "      <td>0.413807</td>\n",
       "      <td>0.446159</td>\n",
       "      <td>0.388680</td>\n",
       "      <td>0.586450</td>\n",
       "    </tr>\n",
       "    <tr>\n",
       "      <th>bp</th>\n",
       "      <td>0.335427</td>\n",
       "      <td>0.241013</td>\n",
       "      <td>0.395415</td>\n",
       "      <td>1.000000</td>\n",
       "      <td>0.242470</td>\n",
       "      <td>0.185558</td>\n",
       "      <td>-0.178761</td>\n",
       "      <td>0.257653</td>\n",
       "      <td>0.393478</td>\n",
       "      <td>0.390429</td>\n",
       "      <td>0.441484</td>\n",
       "    </tr>\n",
       "    <tr>\n",
       "      <th>s1</th>\n",
       "      <td>0.260061</td>\n",
       "      <td>0.035277</td>\n",
       "      <td>0.249777</td>\n",
       "      <td>0.242470</td>\n",
       "      <td>1.000000</td>\n",
       "      <td>0.896663</td>\n",
       "      <td>0.051519</td>\n",
       "      <td>0.542207</td>\n",
       "      <td>0.515501</td>\n",
       "      <td>0.325717</td>\n",
       "      <td>0.212022</td>\n",
       "    </tr>\n",
       "    <tr>\n",
       "      <th>s2</th>\n",
       "      <td>0.219243</td>\n",
       "      <td>0.142637</td>\n",
       "      <td>0.261170</td>\n",
       "      <td>0.185558</td>\n",
       "      <td>0.896663</td>\n",
       "      <td>1.000000</td>\n",
       "      <td>-0.196455</td>\n",
       "      <td>0.659817</td>\n",
       "      <td>0.318353</td>\n",
       "      <td>0.290600</td>\n",
       "      <td>0.174054</td>\n",
       "    </tr>\n",
       "    <tr>\n",
       "      <th>s3</th>\n",
       "      <td>-0.075181</td>\n",
       "      <td>-0.379090</td>\n",
       "      <td>-0.366811</td>\n",
       "      <td>-0.178761</td>\n",
       "      <td>0.051519</td>\n",
       "      <td>-0.196455</td>\n",
       "      <td>1.000000</td>\n",
       "      <td>-0.738493</td>\n",
       "      <td>-0.398577</td>\n",
       "      <td>-0.273697</td>\n",
       "      <td>-0.394789</td>\n",
       "    </tr>\n",
       "    <tr>\n",
       "      <th>s4</th>\n",
       "      <td>0.203841</td>\n",
       "      <td>0.332115</td>\n",
       "      <td>0.413807</td>\n",
       "      <td>0.257653</td>\n",
       "      <td>0.542207</td>\n",
       "      <td>0.659817</td>\n",
       "      <td>-0.738493</td>\n",
       "      <td>1.000000</td>\n",
       "      <td>0.617857</td>\n",
       "      <td>0.417212</td>\n",
       "      <td>0.430453</td>\n",
       "    </tr>\n",
       "    <tr>\n",
       "      <th>s5</th>\n",
       "      <td>0.270777</td>\n",
       "      <td>0.149918</td>\n",
       "      <td>0.446159</td>\n",
       "      <td>0.393478</td>\n",
       "      <td>0.515501</td>\n",
       "      <td>0.318353</td>\n",
       "      <td>-0.398577</td>\n",
       "      <td>0.617857</td>\n",
       "      <td>1.000000</td>\n",
       "      <td>0.464670</td>\n",
       "      <td>0.565883</td>\n",
       "    </tr>\n",
       "    <tr>\n",
       "      <th>s6</th>\n",
       "      <td>0.301731</td>\n",
       "      <td>0.208133</td>\n",
       "      <td>0.388680</td>\n",
       "      <td>0.390429</td>\n",
       "      <td>0.325717</td>\n",
       "      <td>0.290600</td>\n",
       "      <td>-0.273697</td>\n",
       "      <td>0.417212</td>\n",
       "      <td>0.464670</td>\n",
       "      <td>1.000000</td>\n",
       "      <td>0.382483</td>\n",
       "    </tr>\n",
       "    <tr>\n",
       "      <th>Progression</th>\n",
       "      <td>0.187889</td>\n",
       "      <td>0.043062</td>\n",
       "      <td>0.586450</td>\n",
       "      <td>0.441484</td>\n",
       "      <td>0.212022</td>\n",
       "      <td>0.174054</td>\n",
       "      <td>-0.394789</td>\n",
       "      <td>0.430453</td>\n",
       "      <td>0.565883</td>\n",
       "      <td>0.382483</td>\n",
       "      <td>1.000000</td>\n",
       "    </tr>\n",
       "  </tbody>\n",
       "</table>\n",
       "</div>"
      ],
      "text/plain": [
       "                  age       sex       bmi        bp        s1        s2  \\\n",
       "age          1.000000  0.173737  0.185085  0.335427  0.260061  0.219243   \n",
       "sex          0.173737  1.000000  0.088161  0.241013  0.035277  0.142637   \n",
       "bmi          0.185085  0.088161  1.000000  0.395415  0.249777  0.261170   \n",
       "bp           0.335427  0.241013  0.395415  1.000000  0.242470  0.185558   \n",
       "s1           0.260061  0.035277  0.249777  0.242470  1.000000  0.896663   \n",
       "s2           0.219243  0.142637  0.261170  0.185558  0.896663  1.000000   \n",
       "s3          -0.075181 -0.379090 -0.366811 -0.178761  0.051519 -0.196455   \n",
       "s4           0.203841  0.332115  0.413807  0.257653  0.542207  0.659817   \n",
       "s5           0.270777  0.149918  0.446159  0.393478  0.515501  0.318353   \n",
       "s6           0.301731  0.208133  0.388680  0.390429  0.325717  0.290600   \n",
       "Progression  0.187889  0.043062  0.586450  0.441484  0.212022  0.174054   \n",
       "\n",
       "                   s3        s4        s5        s6  Progression  \n",
       "age         -0.075181  0.203841  0.270777  0.301731     0.187889  \n",
       "sex         -0.379090  0.332115  0.149918  0.208133     0.043062  \n",
       "bmi         -0.366811  0.413807  0.446159  0.388680     0.586450  \n",
       "bp          -0.178761  0.257653  0.393478  0.390429     0.441484  \n",
       "s1           0.051519  0.542207  0.515501  0.325717     0.212022  \n",
       "s2          -0.196455  0.659817  0.318353  0.290600     0.174054  \n",
       "s3           1.000000 -0.738493 -0.398577 -0.273697    -0.394789  \n",
       "s4          -0.738493  1.000000  0.617857  0.417212     0.430453  \n",
       "s5          -0.398577  0.617857  1.000000  0.464670     0.565883  \n",
       "s6          -0.273697  0.417212  0.464670  1.000000     0.382483  \n",
       "Progression -0.394789  0.430453  0.565883  0.382483     1.000000  "
      ]
     },
     "execution_count": 39,
     "metadata": {},
     "output_type": "execute_result"
    }
   ],
   "source": [
    "corr = db_df.corr()\n",
    "corr"
   ]
  },
  {
   "cell_type": "code",
   "execution_count": 42,
   "metadata": {},
   "outputs": [
    {
     "data": {
      "image/png": "[encoded data removed]",
      "text/plain": [
       "<Figure size 576x576 with 2 Axes>"
      ]
     },
     "metadata": {
      "needs_background": "light"
     },
     "output_type": "display_data"
    }
   ],
   "source": [
    "plt.subplots(figsize=(8,8))\n",
    "sns.heatmap(corr,cmap= 'RdYlGn',annot=True)\n",
    "plt.show()"
   ]
  },
  {
   "cell_type": "code",
   "execution_count": 43,
   "metadata": {},
   "outputs": [],
   "source": [
    "#independent variables / explanatory variables\n",
    "x = db_df.drop(labels='Progression', axis=1)  #axis=1 means we drop data by column.\n",
    "\n",
    "#dependent variable / response / target variable.\n",
    "y = db_df['Progression']"
   ]
  },
  {
   "cell_type": "code",
   "execution_count": 44,
   "metadata": {},
   "outputs": [
    {
     "name": "stdout",
     "output_type": "stream",
     "text": [
      "(331, 10)\n",
      "(111, 10)\n",
      "(331,)\n",
      "(111,)\n"
     ]
    }
   ],
   "source": [
    "#splitting the dataset into 75%-25% train-test split \n",
    "train_x, test_x, train_y, test_y = train_test_split(x,y,test_size=0.25,random_state=999)\n",
    "print(train_x.shape)\n",
    "print(test_x.shape)\n",
    "print(train_y.shape)\n",
    "print(test_y.shape)"
   ]
  },
  {
   "cell_type": "code",
   "execution_count": 46,
   "metadata": {},
   "outputs": [
    {
     "name": "stdout",
     "output_type": "stream",
     "text": [
      "LinearRegression()\n",
      "<class 'sklearn.linear_model._base.LinearRegression'>\n"
     ]
    }
   ],
   "source": [
    "#let us import the linear regression from sklearn & create instance of the model.\n",
    "\n",
    "from sklearn.linear_model import LinearRegression\n",
    "lm = LinearRegression()\n",
    "print(lm)\n",
    "print(type(lm))"
   ]
  },
  {
   "cell_type": "code",
   "execution_count": 47,
   "metadata": {},
   "outputs": [
    {
     "data": {
      "text/plain": [
       "LinearRegression()"
      ]
     },
     "execution_count": 47,
     "metadata": {},
     "output_type": "execute_result"
    }
   ],
   "source": [
    "lm.fit(train_x, train_y)"
   ]
  },
  {
   "cell_type": "code",
   "execution_count": 48,
   "metadata": {},
   "outputs": [],
   "source": [
    "predicted_y = lm.predict(test_x)"
   ]
  },
  {
   "cell_type": "code",
   "execution_count": 49,
   "metadata": {},
   "outputs": [],
   "source": [
    "#let us import metrics from sklearn to evaluate the model. Refer https://scikit-learn.org/stable/modules/model_evaluation.html for more details.\n",
    "from sklearn import metrics as mt"
   ]
  },
  {
   "cell_type": "code",
   "execution_count": 50,
   "metadata": {},
   "outputs": [
    {
     "name": "stdout",
     "output_type": "stream",
     "text": [
      "1) The model explains, 57.57 % variance of the target w.r.t features is\n",
      "2) The Mean Absolute Error of model is: 38.08\n",
      "3) The R-Square score of the model is  0.56\n"
     ]
    }
   ],
   "source": [
    "print(\"1) The model explains,\", np.round(mt.explained_variance_score(test_y,predicted_y)*100,2),\"% variance of the target w.r.t features is\")\n",
    "print(\"2) The Mean Absolute Error of model is:\", np.round(mt.mean_absolute_error(test_y,predicted_y ),2))\n",
    "print(\"3) The R-Square score of the model is \" , np.round(mt.r2_score(test_y,predicted_y),2))"
   ]
  },
  {
   "cell_type": "code",
   "execution_count": 52,
   "metadata": {},
   "outputs": [
    {
     "name": "stdout",
     "output_type": "stream",
     "text": [
      "Coefficients:\n",
      "\n",
      "age     54.820535\n",
      "sex   -260.930304\n",
      "bmi    458.001802\n",
      "bp     303.502332\n",
      "s1    -995.584889\n",
      "s2     698.811401\n",
      "s3     183.095229\n",
      "s4     185.698494\n",
      "s5     838.503887\n",
      "s6      96.441048\n",
      "dtype: float64\n",
      "\n",
      "\n",
      "Intercept:\n",
      "\n",
      "154.42752615353518\n",
      "\n",
      "\n"
     ]
    }
   ],
   "source": [
    "coeff = pd.Series(lm.coef_, index = train_x.columns)\n",
    "intercept = lm.intercept_\n",
    "print(\"Coefficients:\\n\")\n",
    "print(coeff)\n",
    "print(\"\\n\")\n",
    "print(\"Intercept:\\n\")\n",
    "print(intercept)\n",
    "print(\"\\n\")"
   ]
  },
  {
   "cell_type": "markdown",
   "metadata": {},
   "source": [
    "# SECOND solution"
   ]
  },
  {
   "cell_type": "code",
   "execution_count": 23,
   "metadata": {},
   "outputs": [],
   "source": [
    "from sklearn.model_selection import train_test_split\n",
    "X_train, X_test, y_train, y_test = train_test_split(diabetes.data, diabetes.target, test_size=0.2, random_state=0)"
   ]
  },
  {
   "cell_type": "code",
   "execution_count": 24,
   "metadata": {},
   "outputs": [
    {
     "data": {
      "text/plain": [
       "LinearRegression()"
      ]
     },
     "execution_count": 24,
     "metadata": {},
     "output_type": "execute_result"
    }
   ],
   "source": [
    "from sklearn.model_selection import train_test_split\n",
    "X_train, X_test, y_train, y_test = train_test_split(diabetes.data, diabetes.target, test_size=0.2, random_state=0)\n",
    "# There are three steps to model something with sklearn\n",
    "# 1. Set up the model\n",
    "model = LinearRegression()\n",
    "# 2. Use fit\n",
    "model.fit(X_train, y_train)"
   ]
  },
  {
   "cell_type": "code",
   "execution_count": 25,
   "metadata": {},
   "outputs": [
    {
     "data": {
      "image/png": "[encoded data removed]",
      "text/plain": [
       "<Figure size 432x288 with 1 Axes>"
      ]
     },
     "metadata": {
      "needs_background": "light"
     },
     "output_type": "display_data"
    }
   ],
   "source": [
    "y_pred = model.predict(X_test) \n",
    "plt.plot(y_test, y_pred, '.')\n",
    "\n",
    "# plot a line, a perfit predict would all fall on this line\n",
    "x = np.linspace(0, 330, 100)\n",
    "y = x\n",
    "plt.plot(x, y)\n",
    "plt.show()"
   ]
  },
  {
   "cell_type": "code",
   "execution_count": 26,
   "metadata": {},
   "outputs": [
    {
     "name": "stdout",
     "output_type": "stream",
     "text": [
      "\n",
      "Coefficient of model : [ -35.55683674 -243.1692265   562.75404632  305.47203008 -662.78772128\n",
      "  324.27527477   24.78193291  170.33056502  731.67810787   43.02846824]\n",
      "\n",
      "Intercept of model 152.5381335195406\n"
     ]
    }
   ],
   "source": [
    "print('\\nCoefficient of model :', model.coef_)\n",
    "\n",
    "# intercept of the model\n",
    "print('\\nIntercept of model',model.intercept_)"
   ]
  },
  {
   "cell_type": "code",
   "execution_count": 27,
   "metadata": {},
   "outputs": [
    {
     "name": "stdout",
     "output_type": "stream",
     "text": [
      "[145.9502111  100.12253043 123.30242341  77.82273702 148.66482879\n",
      " 126.20334202 106.99125284 235.36632406 225.1532889  125.66371489\n",
      " 160.85330302 196.62031065 111.59799753 200.35805671  86.68388263\n",
      " 214.65329871 110.00773515 221.07104948 262.33945456 114.33579034\n",
      " 113.94241446 192.97068299 121.27968818 165.52439281  98.99904522\n",
      " 100.42580061 222.84834626 236.84474659 117.58593296 293.4603429\n",
      " 115.8768598  126.92810241 113.47418193  70.33918107 246.46568408\n",
      " 100.68435853 120.95347944 201.96002572 187.212442   194.74243497\n",
      " 160.04178247 191.20540459 115.86973718 173.32974383 156.2165072\n",
      "  78.78877216 183.62092475 260.58268965  92.20707581  75.88035461\n",
      " 109.2063895   99.1614577  253.68789315 166.11177629  97.46831807\n",
      " 113.67187619 104.49328675  61.5029832  105.87404321 154.14617517\n",
      " 114.51018234 190.77287958 150.90307633 247.6183396  212.4053856\n",
      " 290.38216807 102.1451954  100.43028895 156.85279833 149.3443226\n",
      " 176.48042033 230.63741263 154.34187952 100.2211245  121.21237089\n",
      "  83.47526258 167.90397702 179.90594068 193.27276501 107.71048243\n",
      "  52.91020326 162.2454192  300.73225254 174.52857238 156.18405453\n",
      " 149.94668432 174.82093171 154.65128627 131.47762509 213.08559611\n",
      " 225.48583219 263.43112166 159.0350299  133.53545834 155.23575617\n",
      " 230.6645832   60.03798409  90.39293506 143.66670637  59.92604303\n",
      "  94.80646785 296.27919519 173.55716394  70.88858197 110.20571256\n",
      "  81.29510286 148.52854352  79.29907254 225.21449691 216.36041833\n",
      " 168.96873349 186.0743544  264.6142098  177.53390868  99.40835347\n",
      "  97.79306756 183.74050179  55.34292371 210.95512469 267.4146768\n",
      " 235.21679373 174.4940168  148.16288552 210.32311682 109.55308345\n",
      "  45.39109031 121.0556067  237.20800059 201.57544004 118.83889169\n",
      " 199.6471779  184.9763053   86.0322544  136.08769882 120.45350973\n",
      " 170.29515743 158.54478351  54.66343295 216.92174466 217.96430898\n",
      " 183.35341129 179.33478422 137.24204423 148.02517462 115.30767601\n",
      " 154.70932748 174.38812365 257.92634034 146.7179515  157.52035336\n",
      " 204.81274607 126.53079181 170.6054201  264.41564817 129.67042396\n",
      " 113.21121319  99.5362031   82.55943743 164.82581101 174.34597705\n",
      " 233.11583477 182.46532483 178.40253864 122.80279283 122.40917464\n",
      " 170.94992373 157.04306199 222.07349001 131.17755292 209.68557825\n",
      " 120.79938714  63.97719317  98.52014743 147.85229512 166.26284344\n",
      "  91.47589238 119.55941693 251.18002972 166.19481165 158.77324138\n",
      "  52.09992592 120.1428549  230.00841836 157.65086122 119.18144144\n",
      " 227.4669182   36.05806279 185.47983387 197.28075542 213.03235651\n",
      " 123.12339073 138.44781365 124.55602429 259.15243428  60.78194153\n",
      "  55.46011936 157.76608192 135.2284859  233.07427581 160.72768529\n",
      " 125.52461365  86.03960041  80.9531728  168.09627854 170.01300793\n",
      " 134.03620325 194.34372952 165.20140823  80.31913839  79.68559683\n",
      " 204.7877717  192.12449816 135.6370438  157.20346316  80.11692162\n",
      " 106.24765361 167.29846974 175.61417488 169.94809519 142.83037458\n",
      " 110.72723489  95.95539968 111.51091753  43.69525394  30.90083459\n",
      " 210.49972696 150.81187204  98.51408568  78.16149694 192.80830341\n",
      " 157.7127692  172.17693929  60.72311187  90.56517922 200.32828896\n",
      " 167.18202696 154.30380888  61.13258803 137.41258811 248.09739746\n",
      "  70.7772433  262.1911644   72.89227646 210.571063    65.7732717\n",
      " 170.12131346 125.23020593 114.09469851  98.37733966  96.48245753\n",
      " 279.83508041 109.4487138  172.42566162 128.39428781 261.26297985\n",
      " 228.81214678 121.67455573 137.46066417  67.90218377 184.78768676\n",
      " 214.15454604 116.22114648  98.97237436 113.65793815 117.62170401\n",
      "  82.37622755 180.92782796  92.75064451  72.22432931 119.05074823\n",
      " 216.78228411 268.14359024 208.92486835 196.52464747  56.71532905\n",
      " 199.31712427 113.27830832  53.97768425 187.44011517  60.82407689\n",
      " 134.88496627 149.89594539  50.98262432 203.17410503  83.18897665\n",
      " 285.93340593 103.19680348 269.95891713 149.74621049 115.23397806\n",
      " 198.96363354 192.36988163  94.10860214 241.37717196 152.99056378\n",
      " 139.77175625  92.77090109 222.0215091  131.44308666 153.51382161\n",
      "  56.63057082 196.05902867 144.62663247 145.41236116 161.55805262\n",
      "  70.26434749 267.07061789 107.52206146 192.74413617 121.0314771\n",
      "  72.38526361 174.20729682 143.97648176 233.88621698 204.87841839\n",
      " 159.29474141 226.19660774 136.55224933 123.79545769  83.97579335\n",
      " 187.58620161  99.33574069 192.3176355  202.03652351 130.21946143\n",
      " 141.4036612  182.30544222 151.86671699  76.59568783 172.45009859\n",
      " 155.98904182 170.28332469 257.63113023 139.25409529 139.12912757\n",
      " 178.30459274  65.02748593  79.55362897  68.23942743 150.65334013\n",
      "  93.57068607  91.92365046 115.83329263 174.57766663 222.81602073\n",
      " 171.80828226 168.06042159 280.45163584 221.16882149  87.45921455\n",
      " 230.90262059 115.02453773 223.95236783]\n"
     ]
    }
   ],
   "source": [
    "predict_train = model.predict(X_train)\n",
    "print(predict_train)"
   ]
  },
  {
   "cell_type": "code",
   "execution_count": 28,
   "metadata": {},
   "outputs": [
    {
     "name": "stdout",
     "output_type": "stream",
     "text": [
      "\n",
      "RMSE on train dataset :  52.29463904075774\n",
      "[238.47145247 248.93170646 164.05404165 120.30794355 187.42422054\n",
      " 259.04865002 113.55556372 188.07597044 149.49663441 236.01099949\n",
      " 172.24629506 178.88073764 109.15751983  92.13508975 243.33042043\n",
      "  87.356971   155.72606406  66.99073989 100.42610442 218.09422877\n",
      " 196.66287912 161.29832968 161.70779605 156.52520454 197.88796516\n",
      " 167.57984206 120.74478913  84.83879727 192.03728687 160.60687024\n",
      " 175.17178362  84.22833237 145.7995542  145.97333493 140.96488953\n",
      " 197.00421108 165.94322494 190.65906468 128.22520508 206.41941223\n",
      "  84.35851196 164.0256504  144.1056776  184.68355549 177.80238966\n",
      "  74.32855231 143.3660286  138.67726085 120.81146113 234.34252077\n",
      " 161.94390244  74.5455476  154.71905074 156.78884927 237.42227096\n",
      " 174.23053048 190.88212635 118.98373473 132.20418974 168.52674824\n",
      " 214.74245466 171.42364091 157.37409906 108.86927343 257.06329636\n",
      " 152.17777143  82.43686464 231.56746032 202.90641336  47.18340199\n",
      "  78.46954525 129.30170908 104.60253144 144.65200281 132.27974254\n",
      " 190.04134164  97.55541138 197.51891007 219.13709291 186.13797012\n",
      " 149.60913007 208.42379455  44.59036026 206.20925368  76.77377721\n",
      "  94.94046865 145.2955051  194.03776373 132.78534336]\n",
      "\n",
      "RMSE on test dataset :  58.51766133582009\n"
     ]
    }
   ],
   "source": [
    "# Root Mean Squared Error on training dataset\n",
    "rmse_train = mean_squared_error(y_train,predict_train)**(0.5)\n",
    "print('\\nRMSE on train dataset : ', rmse_train)\n",
    "\n",
    "# predict the target on the testing dataset\n",
    "predict_test = model.predict(X_test)\n",
    "print(predict_test)\n",
    "\n",
    "# Root Mean Squared Error on testing dataset\n",
    "rmse_test = mean_squared_error(y_test,predict_test)**(0.5)\n",
    "print('\\nRMSE on test dataset : ', rmse_test)"
   ]
  },
  {
   "cell_type": "markdown",
   "metadata": {},
   "source": [
    "# Third Solution"
   ]
  },
  {
   "cell_type": "markdown",
   "metadata": {},
   "source": [
    "Let us use another package called Statsmodel & build another model. Statsmodel\n",
    "package gives a better summary of the model parameters w.r.t Linear Regression"
   ]
  },
  {
   "cell_type": "code",
   "execution_count": 53,
   "metadata": {},
   "outputs": [
    {
     "data": {
      "text/html": [
       "<div>\n",
       "<style scoped>\n",
       "    .dataframe tbody tr th:only-of-type {\n",
       "        vertical-align: middle;\n",
       "    }\n",
       "\n",
       "    .dataframe tbody tr th {\n",
       "        vertical-align: top;\n",
       "    }\n",
       "\n",
       "    .dataframe thead th {\n",
       "        text-align: right;\n",
       "    }\n",
       "</style>\n",
       "<table border=\"1\" class=\"dataframe\">\n",
       "  <thead>\n",
       "    <tr style=\"text-align: right;\">\n",
       "      <th></th>\n",
       "      <th>age</th>\n",
       "      <th>sex</th>\n",
       "      <th>bmi</th>\n",
       "      <th>bp</th>\n",
       "      <th>s1</th>\n",
       "      <th>s2</th>\n",
       "      <th>s3</th>\n",
       "      <th>s4</th>\n",
       "      <th>s5</th>\n",
       "      <th>s6</th>\n",
       "      <th>Progression</th>\n",
       "    </tr>\n",
       "  </thead>\n",
       "  <tbody>\n",
       "  </tbody>\n",
       "</table>\n",
       "</div>"
      ],
      "text/plain": [
       "Empty DataFrame\n",
       "Columns: [age, sex, bmi, bp, s1, s2, s3, s4, s5, s6, Progression]\n",
       "Index: []"
      ]
     },
     "execution_count": 53,
     "metadata": {},
     "output_type": "execute_result"
    }
   ],
   "source": [
    "import statsmodels.api as sm\n",
    "db_df.head(0)"
   ]
  },
  {
   "cell_type": "code",
   "execution_count": 54,
   "metadata": {},
   "outputs": [],
   "source": [
    "lm2 = sm.OLS.from_formula(\"Progression ~ age+sex+bmi+bp+s1+s2+s3+s4+s5+s6\", data=db_df)\n",
    "# Predictor -> Progression\n",
    "# Features -> age, sex etc.We are using '+' sign to just indicate all columns to be considered. There is no addition happening.\n",
    "\n",
    "trained_lm2 = lm2.fit()"
   ]
  },
  {
   "cell_type": "code",
   "execution_count": 55,
   "metadata": {},
   "outputs": [],
   "source": [
    "predictions = trained_lm2.predict(x)"
   ]
  },
  {
   "cell_type": "code",
   "execution_count": 56,
   "metadata": {},
   "outputs": [
    {
     "data": {
      "text/plain": [
       "0    206.117070\n",
       "1     68.072348\n",
       "2    176.884060\n",
       "3    166.917966\n",
       "4    128.459842\n",
       "dtype: float64"
      ]
     },
     "execution_count": 56,
     "metadata": {},
     "output_type": "execute_result"
    }
   ],
   "source": [
    "predictions.head()"
   ]
  },
  {
   "cell_type": "code",
   "execution_count": 57,
   "metadata": {},
   "outputs": [
    {
     "name": "stdout",
     "output_type": "stream",
     "text": [
      "                            OLS Regression Results                            \n",
      "==============================================================================\n",
      "Dep. Variable:            Progression   R-squared:                       0.518\n",
      "Model:                            OLS   Adj. R-squared:                  0.507\n",
      "Method:                 Least Squares   F-statistic:                     46.27\n",
      "Date:                Wed, 26 May 2021   Prob (F-statistic):           3.83e-62\n",
      "Time:                        12:08:54   Log-Likelihood:                -2386.0\n",
      "No. Observations:                 442   AIC:                             4794.\n",
      "Df Residuals:                     431   BIC:                             4839.\n",
      "Df Model:                          10                                         \n",
      "Covariance Type:            nonrobust                                         \n",
      "==============================================================================\n",
      "                 coef    std err          t      P>|t|      [0.025      0.975]\n",
      "------------------------------------------------------------------------------\n",
      "Intercept    152.1335      2.576     59.061      0.000     147.071     157.196\n",
      "age          -10.0122     59.749     -0.168      0.867    -127.448     107.424\n",
      "sex         -239.8191     61.222     -3.917      0.000    -360.151    -119.488\n",
      "bmi          519.8398     66.534      7.813      0.000     389.069     650.610\n",
      "bp           324.3904     65.422      4.958      0.000     195.805     452.976\n",
      "s1          -792.1842    416.684     -1.901      0.058   -1611.169      26.801\n",
      "s2           476.7458    339.035      1.406      0.160    -189.621    1143.113\n",
      "s3           101.0446    212.533      0.475      0.635    -316.685     518.774\n",
      "s4           177.0642    161.476      1.097      0.273    -140.313     494.442\n",
      "s5           751.2793    171.902      4.370      0.000     413.409    1089.150\n",
      "s6            67.6254     65.984      1.025      0.306     -62.065     197.316\n",
      "==============================================================================\n",
      "Omnibus:                        1.506   Durbin-Watson:                   2.029\n",
      "Prob(Omnibus):                  0.471   Jarque-Bera (JB):                1.404\n",
      "Skew:                           0.017   Prob(JB):                        0.496\n",
      "Kurtosis:                       2.726   Cond. No.                         227.\n",
      "==============================================================================\n",
      "\n",
      "Warnings:\n",
      "[1] Standard Errors assume that the covariance matrix of the errors is correctly specified.\n"
     ]
    }
   ],
   "source": [
    "summary_model = trained_lm2.summary()\n",
    "print(summary_model)"
   ]
  },
  {
   "cell_type": "code",
   "execution_count": null,
   "metadata": {},
   "outputs": [],
   "source": []
  }
 ],
 "metadata": {
  "kernelspec": {
   "display_name": "Python 3",
   "language": "python",
   "name": "python3"
  },
  "language_info": {
   "codemirror_mode": {
    "name": "ipython",
    "version": 3
   },
   "file_extension": ".py",
   "mimetype": "text/x-python",
   "name": "python",
   "nbconvert_exporter": "python",
   "pygments_lexer": "ipython3",
   "version": "3.6.3"
  }
 },
 "nbformat": 4,
 "nbformat_minor": 2
}
